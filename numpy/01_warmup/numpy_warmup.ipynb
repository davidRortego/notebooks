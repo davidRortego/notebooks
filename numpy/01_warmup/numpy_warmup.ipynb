{
 "cells": [
  {
   "cell_type": "markdown",
   "metadata": {},
   "source": [
    "# Data Analysis with Numpy\n",
    "\n",
    "### Warmup Exercises"
   ]
  }
 ],
 "metadata": {
  "kernelspec": {
   "display_name": "Python 3.10.5 ('venv': venv)",
   "language": "python",
   "name": "python3"
  },
  "language_info": {
   "name": "python",
   "version": "3.10.5"
  },
  "orig_nbformat": 4,
  "vscode": {
   "interpreter": {
    "hash": "003d32cb0f2e110d6c0561178e9a9c1ef20e0f549717569d529ea2af12ac5abe"
   }
  }
 },
 "nbformat": 4,
 "nbformat_minor": 2
}
