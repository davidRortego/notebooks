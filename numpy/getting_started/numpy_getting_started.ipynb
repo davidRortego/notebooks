{
 "cells": [
  {
   "cell_type": "markdown",
   "metadata": {},
   "source": [
    "# Practical Data Analysis Using Jupyter Notebook\n",
    "\n",
    "## Ch. 3: Getting Started with NumPy"
   ]
  },
  {
   "cell_type": "markdown",
   "metadata": {},
   "source": [
    "---"
   ]
  },
  {
   "cell_type": "markdown",
   "metadata": {},
   "source": [
    "## Introduction\n",
    "\n",
    "This here is an introduction to the Python library `NumPy`.  Please enjoy!"
   ]
  },
  {
   "cell_type": "markdown",
   "metadata": {},
   "source": [
    "## Imports"
   ]
  },
  {
   "cell_type": "code",
   "execution_count": 5,
   "metadata": {},
   "outputs": [
    {
     "data": {
      "text/plain": [
       "'1.23.1'"
      ]
     },
     "execution_count": 5,
     "metadata": {},
     "output_type": "execute_result"
    }
   ],
   "source": [
    "import numpy as np\n",
    "np.__version__"
   ]
  },
  {
   "cell_type": "markdown",
   "metadata": {},
   "source": [
    "## Goals\n",
    "* Understanding a Python NumPy array and its importance\n",
    "* Differences between single and multiple dimensional arrays\n",
    "* Making your first NumPy array\n",
    "* Practical use cases of NumPy and arrays"
   ]
  },
  {
   "cell_type": "markdown",
   "metadata": {},
   "source": [
    "---"
   ]
  },
  {
   "cell_type": "markdown",
   "metadata": {},
   "source": [
    "### Understanding a Python NumPy array and its importance\n",
    "\n",
    "According to the documentation, the purpose was to extend Python to allow the manipulation of large sets of objects organized in a grid-like fashion.\n",
    "\n",
    "Python does not support arrays out of the box but does have a similar feature called `lists`, which has limitations in performance and scalability.\n",
    "\n",
    "The NumPy library is all about arrays.\n",
    "\n",
    "A more formal definition of an array is it is a container used to store a list of values or collections of values called elements.  The elements must be defined with a data type that applies to all of the values in an array, and that data type cannot be changed during the creation of the array.\n",
    "\n",
    "The most common `dtype` are `Boolean` for true/false values, `char` for words/string values, `float` for decimal numbers, and `int` for integers.\n"
   ]
  },
  {
   "cell_type": "markdown",
   "metadata": {},
   "source": [
    "### Differences between single and multiple dimensional arrays\n",
    "\n",
    "If the array only has one dimension, it would represent that list of values in a single row or\n",
    "column (but not both)"
   ]
  },
  {
   "cell_type": "code",
   "execution_count": 2,
   "metadata": {},
   "outputs": [],
   "source": [
    "oneD_array = ([1, 2, 3, 4, 5])"
   ]
  },
  {
   "cell_type": "markdown",
   "metadata": {},
   "source": [
    "A two-dimensional array, also known as a matrix, would be any combination of multiple rows and columns."
   ]
  },
  {
   "cell_type": "code",
   "execution_count": 4,
   "metadata": {},
   "outputs": [],
   "source": [
    "twoD_array = (\n",
    "  [1, 'a'],\n",
    "  [2, 'b'],\n",
    "  [3, 'c'],\n",
    "  [4, 'e'],\n",
    "  [5, 'f']\n",
    ")"
   ]
  },
  {
   "cell_type": "markdown",
   "metadata": {},
   "source": [
    "You may have already realized from the examples that a structured data table that is made up of rows and columns is a two-dimensional array!\n",
    "\n",
    "If the array has more than one dimension, you can reference the values along the axis (X, Y, or Z).\n",
    "\n",
    "With the `numpy` library package, the core feature is the `ndarray` object, which allows for any number of dimensions, which is called n-dimensional.\n",
    "\n",
    "A 3D cube with an X, Y, and Z axis can also be created using NumPy arrays.\n",
    "\n",
    "Some other key features of NumPy include the following:\n",
    "* The ability to perform mathematical calculations against big datasets\n",
    "* Using operators to compare values such as greater than and less than\n",
    "* Combining values in two or more arrays together\n",
    "* Referencing individual elements in the sequence from how they are stored"
   ]
  },
  {
   "cell_type": "markdown",
   "metadata": {},
   "source": [
    "### Making your first NumPy array\n"
   ]
  },
  {
   "cell_type": "code",
   "execution_count": 6,
   "metadata": {},
   "outputs": [
    {
     "name": "stdout",
     "output_type": "stream",
     "text": [
      "[1 2 3]\n"
     ]
    }
   ],
   "source": [
    "my_first_array = np.array([1, 2, 3]) # 1D array\n",
    "print(my_first_array)"
   ]
  },
  {
   "cell_type": "markdown",
   "metadata": {},
   "source": [
    "Now that we have an array available, let's walk through how you can verify the contents."
   ]
  },
  {
   "cell_type": "markdown",
   "metadata": {},
   "source": [
    "### Useful array functions"
   ]
  }
 ],
 "metadata": {
  "kernelspec": {
   "display_name": "Python 3.10.5 64-bit",
   "language": "python",
   "name": "python3"
  },
  "language_info": {
   "codemirror_mode": {
    "name": "ipython",
    "version": 3
   },
   "file_extension": ".py",
   "mimetype": "text/x-python",
   "name": "python",
   "nbconvert_exporter": "python",
   "pygments_lexer": "ipython3",
   "version": "3.10.5"
  },
  "orig_nbformat": 4,
  "vscode": {
   "interpreter": {
    "hash": "b629c3126b5df0b3c19ac5f524890cb3a3a2e86c1a2f2c4b1c29287aa73e65d0"
   }
  }
 },
 "nbformat": 4,
 "nbformat_minor": 2
}
