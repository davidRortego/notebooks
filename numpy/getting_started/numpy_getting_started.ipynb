{
 "cells": [
  {
   "cell_type": "markdown",
   "metadata": {},
   "source": [
    "# Practical Data Analysis Using Jupyter Notebook\n",
    "\n",
    "## Ch. 3: Getting Started with NumPy"
   ]
  },
  {
   "cell_type": "markdown",
   "metadata": {},
   "source": [
    "---"
   ]
  },
  {
   "cell_type": "markdown",
   "metadata": {},
   "source": [
    "## Introduction\n",
    "\n",
    "This here is an introduction to the Python library `NumPy` and my notes from the excellent book *Practical Data Analysis Using Jupyter Notebook*.  Please enjoy!"
   ]
  },
  {
   "cell_type": "markdown",
   "metadata": {},
   "source": [
    "## Goals\n",
    "* Understanding a Python NumPy array and its importance\n",
    "* Differences between single and multiple dimensional arrays\n",
    "* Making your first NumPy array\n",
    "* Practical use cases of NumPy and arrays"
   ]
  },
  {
   "cell_type": "markdown",
   "metadata": {},
   "source": [
    "## Imports"
   ]
  },
  {
   "cell_type": "code",
   "execution_count": 14,
   "metadata": {},
   "outputs": [
    {
     "data": {
      "text/plain": [
       "'1.23.1'"
      ]
     },
     "execution_count": 14,
     "metadata": {},
     "output_type": "execute_result"
    }
   ],
   "source": [
    "import numpy as np\n",
    "np.__version__"
   ]
  },
  {
   "cell_type": "markdown",
   "metadata": {},
   "source": [
    "---"
   ]
  },
  {
   "cell_type": "markdown",
   "metadata": {},
   "source": [
    "## Understanding a Python NumPy array and its importance\n",
    "\n",
    "According to the documentation, the purpose was to extend Python to allow the manipulation of large sets of objects organized in a grid-like fashion.\n",
    "\n",
    "Python does not support arrays out of the box but does have a similar feature called `lists`, which has limitations in performance and scalability.\n",
    "\n",
    "The NumPy library is all about arrays.\n",
    "\n",
    "A more formal definition of an array is it is a container used to store a list of values or collections of values called elements.  The elements must be defined with a data type that applies to all of the values in an array, and that data type cannot be changed during the creation of the array.\n",
    "\n",
    "The most common `dtype` are `Boolean` for true/false values, `char` for words/string values, `float` for decimal numbers, and `int` for integers.\n"
   ]
  },
  {
   "cell_type": "markdown",
   "metadata": {},
   "source": [
    "### Differences between single and multiple dimensional arrays\n",
    "\n",
    "If the array only has one dimension, it would represent that list of values in a single row or\n",
    "column (but not both)"
   ]
  },
  {
   "cell_type": "code",
   "execution_count": 2,
   "metadata": {},
   "outputs": [],
   "source": [
    "oneD_array = ([1, 2, 3, 4, 5])"
   ]
  },
  {
   "cell_type": "markdown",
   "metadata": {},
   "source": [
    "A two-dimensional array, also known as a matrix, would be any combination of multiple rows and columns."
   ]
  },
  {
   "cell_type": "code",
   "execution_count": 3,
   "metadata": {},
   "outputs": [],
   "source": [
    "twoD_array = (\n",
    "  [1, 'a'],\n",
    "  [2, 'b'],\n",
    "  [3, 'c'],\n",
    "  [4, 'e'],\n",
    "  [5, 'f']\n",
    ")"
   ]
  },
  {
   "cell_type": "markdown",
   "metadata": {},
   "source": [
    "You may have already realized from the examples that a structured data table that is made up of rows and columns is a two-dimensional array!\n",
    "\n",
    "If the array has more than one dimension, you can reference the values along the axis (X, Y, or Z).\n",
    "\n",
    "With the `numpy` library package, the core feature is the `ndarray` object, which allows for any number of dimensions, which is called n-dimensional.\n",
    "\n",
    "A 3D cube with an X, Y, and Z axis can also be created using NumPy arrays.\n",
    "\n",
    "Some other key features of NumPy include the following:\n",
    "* The ability to perform mathematical calculations against big datasets\n",
    "* Using operators to compare values such as greater than and less than\n",
    "* Combining values in two or more arrays together\n",
    "* Referencing individual elements in the sequence from how they are stored"
   ]
  },
  {
   "cell_type": "markdown",
   "metadata": {},
   "source": [
    "### Making your first NumPy array\n"
   ]
  },
  {
   "cell_type": "code",
   "execution_count": 4,
   "metadata": {},
   "outputs": [
    {
     "name": "stdout",
     "output_type": "stream",
     "text": [
      "[1 2 3]\n"
     ]
    }
   ],
   "source": [
    "my_first_array = np.array([1, 2, 3]) # 1D array\n",
    "print(my_first_array)"
   ]
  },
  {
   "cell_type": "markdown",
   "metadata": {},
   "source": [
    "Now that we have an array available, let's walk through how you can verify the contents."
   ]
  },
  {
   "cell_type": "markdown",
   "metadata": {},
   "source": [
    "### Useful array functions\n",
    "\n",
    "Commands to run against any array in NumPy to give you metadata:\n",
    "\n",
    "* `array.shape` : provides the array dimensions, attribute"
   ]
  },
  {
   "cell_type": "code",
   "execution_count": 5,
   "metadata": {},
   "outputs": [
    {
     "data": {
      "text/plain": [
       "(3,)"
      ]
     },
     "execution_count": 5,
     "metadata": {},
     "output_type": "execute_result"
    }
   ],
   "source": [
    "my_first_array.shape"
   ]
  },
  {
   "cell_type": "markdown",
   "metadata": {},
   "source": [
    "* `array.size` : shows the number of array elements (similar to the number of cells in a table), attribute"
   ]
  },
  {
   "cell_type": "code",
   "execution_count": 7,
   "metadata": {},
   "outputs": [
    {
     "data": {
      "text/plain": [
       "3"
      ]
     },
     "execution_count": 7,
     "metadata": {},
     "output_type": "execute_result"
    }
   ],
   "source": [
    "my_first_array.size # shows the number of array elements (similar to the number of cells in a table)"
   ]
  },
  {
   "cell_type": "markdown",
   "metadata": {},
   "source": [
    "* `len()`: shows the length of the array"
   ]
  },
  {
   "cell_type": "code",
   "execution_count": 6,
   "metadata": {},
   "outputs": [
    {
     "data": {
      "text/plain": [
       "3"
      ]
     },
     "execution_count": 6,
     "metadata": {},
     "output_type": "execute_result"
    }
   ],
   "source": [
    "len(my_first_array)"
   ]
  },
  {
   "cell_type": "markdown",
   "metadata": {},
   "source": [
    "* `array.dtype.name` : provides the data type of the array elements"
   ]
  },
  {
   "cell_type": "code",
   "execution_count": 8,
   "metadata": {},
   "outputs": [
    {
     "data": {
      "text/plain": [
       "'int32'"
      ]
     },
     "execution_count": 8,
     "metadata": {},
     "output_type": "execute_result"
    }
   ],
   "source": [
    "my_first_array.dtype.name"
   ]
  },
  {
   "cell_type": "markdown",
   "metadata": {},
   "source": [
    "* `array.astype(int)` : converts an array into a different data type—in this example, an integer that will display as int64"
   ]
  },
  {
   "cell_type": "code",
   "execution_count": 9,
   "metadata": {},
   "outputs": [
    {
     "data": {
      "text/plain": [
       "array([1, 2, 3])"
      ]
     },
     "execution_count": 9,
     "metadata": {},
     "output_type": "execute_result"
    }
   ],
   "source": [
    "my_first_array.astype(int)"
   ]
  },
  {
   "cell_type": "markdown",
   "metadata": {},
   "source": [
    "To reference individual elements in the array, you use the square brackets along with an ordinal whole number, which is called the array index.  **[Bracket Notation]** "
   ]
  },
  {
   "cell_type": "markdown",
   "metadata": {},
   "source": [
    "Some useful statistical functions you can run against numeric arrays that have `dtype` of `int` or `float` include the following:"
   ]
  },
  {
   "cell_type": "markdown",
   "metadata": {},
   "source": [
    "* `array.sum()` : sums all of the element values"
   ]
  },
  {
   "cell_type": "code",
   "execution_count": 10,
   "metadata": {},
   "outputs": [
    {
     "data": {
      "text/plain": [
       "6"
      ]
     },
     "execution_count": 10,
     "metadata": {},
     "output_type": "execute_result"
    }
   ],
   "source": [
    "my_first_array.sum()"
   ]
  },
  {
   "cell_type": "markdown",
   "metadata": {},
   "source": [
    "* `array.min()` : provides the minimum element value in the entire array"
   ]
  },
  {
   "cell_type": "code",
   "execution_count": 11,
   "metadata": {},
   "outputs": [
    {
     "data": {
      "text/plain": [
       "1"
      ]
     },
     "execution_count": 11,
     "metadata": {},
     "output_type": "execute_result"
    }
   ],
   "source": [
    "my_first_array.min()"
   ]
  },
  {
   "cell_type": "markdown",
   "metadata": {},
   "source": [
    "* `array.max()` : provides the maximum element value in the entire array"
   ]
  },
  {
   "cell_type": "code",
   "execution_count": 12,
   "metadata": {},
   "outputs": [
    {
     "data": {
      "text/plain": [
       "3"
      ]
     },
     "execution_count": 12,
     "metadata": {},
     "output_type": "execute_result"
    }
   ],
   "source": [
    "my_first_array.max()"
   ]
  },
  {
   "cell_type": "markdown",
   "metadata": {},
   "source": [
    "* `array.mean()` : provides the mean or average, which is the sum of the elements divided by the count of the elements"
   ]
  },
  {
   "cell_type": "code",
   "execution_count": 13,
   "metadata": {},
   "outputs": [
    {
     "data": {
      "text/plain": [
       "2.0"
      ]
     },
     "execution_count": 13,
     "metadata": {},
     "output_type": "execute_result"
    }
   ],
   "source": [
    "my_first_array.mean()"
   ]
  },
  {
   "cell_type": "markdown",
   "metadata": {},
   "source": [
    "## Practical use cases of NumPy and arrays\n",
    "\n",
    "Here's the scenario—you are a data analyst who wants to know what is the highest daily closing price for a stock ticker for the current Year To Date (YTD). To do this, you can use an array to store each value as an element, sort the price element from high to low, and then print the first element, which would display the  highest price as the output value."
   ]
  },
  {
   "cell_type": "markdown",
   "metadata": {},
   "source": [
    "### Assigning values to arrays directly\n",
    "\n",
    "A more scalable option versus manually assigning values in the array is to use another NumPy command called the `genfromtxt()` function.\n",
    "\n",
    "There are multiple required and optional parameters for the `genfromtxt()` function, let's walk through the ones required to answer our business question:\n",
    "\n",
    "* The first parameter is the filename, which is assigned to the file we upload, named `AAPL_stock_price_example.csv`.\n",
    "* The second parameter is the delimiter, which is a comma since that is how the input file is structured.\n",
    "* The next parameter is to inform the function that our input data file has a header by assigning the `names=` parameter to `True`.\n",
    "* The last parameter is `usecols=`, which defines the specific column to read the data from.\n",
    "\n",
    "According to the `genformtxt()` function help, when passing a value to the `usecols=` parameter, the first column is always assigned to **0** by default. Since we need the `Close column` in our file, we change the parameter value to **1** to match the order that is found in our input file.\n",
    "\n",
    "Check a look ;)"
   ]
  },
  {
   "cell_type": "code",
   "execution_count": 15,
   "metadata": {},
   "outputs": [
    {
     "data": {
      "text/plain": [
       "229"
      ]
     },
     "execution_count": 15,
     "metadata": {},
     "output_type": "execute_result"
    }
   ],
   "source": [
    "input_stock_price_array = np.genfromtxt('../data/source/AAPL_stock_price_example.csv', delimiter=',', names=True, usecols=(1))\n",
    "input_stock_price_array.size"
   ]
  },
  {
   "cell_type": "code",
   "execution_count": 16,
   "metadata": {},
   "outputs": [
    {
     "name": "stdout",
     "output_type": "stream",
     "text": [
      "Closing stock price in order of day traded :  [(157.919998,) (142.190002,) (148.259995,) (147.929993,) (150.75    ,)]\n",
      "Closing stock price in order from high to low :  [(267.100006,) (266.369995,) (266.290009,) (265.76001 ,) (264.470001,)]\n"
     ]
    }
   ],
   "source": [
    "sorted_stock_price_array = np.sort(input_stock_price_array)[::-1] # descending order\n",
    "\n",
    "print('Closing stock price in order of day traded : ', input_stock_price_array[:5])\n",
    "print('Closing stock price in order from high to low : ', sorted_stock_price_array[:5])"
   ]
  },
  {
   "cell_type": "code",
   "execution_count": 19,
   "metadata": {},
   "outputs": [
    {
     "name": "stdout",
     "output_type": "stream",
     "text": [
      "Highest closing stock price :  (267.100006,)\n"
     ]
    }
   ],
   "source": [
    "print('Highest closing stock price : ', sorted_stock_price_array[0])"
   ]
  },
  {
   "cell_type": "markdown",
   "metadata": {},
   "source": [
    "### Assigning values to an array using a loop\n",
    "\n",
    "Another approach that may use more code but has more flexibility to control data quality during the process of populating the array would be to use a loop.\n",
    "\n",
    "A summary of the process is as follows:\n",
    "1.  Read the file into memory\n",
    "2.  Loop through each individual record\n",
    "3.  Strip out a value from each record\n",
    "4.  Assign each value to a temporary array\n",
    "5.  Clean up the array\n",
    "6.  Sort the array in descending order\n",
    "7.  Print the first element in the array to display the highest price"
   ]
  },
  {
   "cell_type": "code",
   "execution_count": 20,
   "metadata": {},
   "outputs": [
    {
     "name": "stdout",
     "output_type": "stream",
     "text": [
      "['Close', '157.919998', '142.190002', '148.259995', '147.929993']\n"
     ]
    }
   ],
   "source": [
    "temp_array = []\n",
    "\n",
    "#1. read the file into memory\n",
    "with open('../data/source/AAPL_stock_price_example.csv', 'r') as input_file:\n",
    "  #1.a load all the data into a variable\n",
    "  all_lines_from_input_file = input_file.readlines()\n",
    "  #2. loop through each individual record\n",
    "  for each_individual_line in all_lines_from_input_file:\n",
    "    #3. strip out a value from each record\n",
    "    for value_from_line in each_individual_line.rsplit(',')[1:]:\n",
    "      #3.a remove the whitespaces from each value\n",
    "      clean_value_from_line = value_from_line.replace(\"\\n\", \"\")\n",
    "      #4. assign each value to the new array by element\n",
    "      temp_array.append(clean_value_from_line)\n",
    "\n",
    "print(temp_array[:5])"
   ]
  },
  {
   "cell_type": "code",
   "execution_count": 21,
   "metadata": {},
   "outputs": [
    {
     "data": {
      "text/plain": [
       "229"
      ]
     },
     "execution_count": 21,
     "metadata": {},
     "output_type": "execute_result"
    }
   ],
   "source": [
    "#5. clean up the array\n",
    "temp_array = np.delete(temp_array, 0) # removes the header row\n",
    "temp_array.size"
   ]
  },
  {
   "cell_type": "code",
   "execution_count": 22,
   "metadata": {},
   "outputs": [
    {
     "name": "stdout",
     "output_type": "stream",
     "text": [
      "[157.919998 142.190002 148.259995 147.929993 150.75    ]\n"
     ]
    }
   ],
   "source": [
    "input_stock_price_array = temp_array.astype(float) # cast as float, removes quotes on values\n",
    "print(input_stock_price_array[:5])"
   ]
  },
  {
   "cell_type": "code",
   "execution_count": 23,
   "metadata": {},
   "outputs": [
    {
     "name": "stdout",
     "output_type": "stream",
     "text": [
      "Closing stock price in order of day traded:  [157.919998 142.190002 148.259995 147.929993 150.75    ]\n",
      "Closing stock price in order from high to low:  [267.100006 266.369995 266.290009 265.76001  264.470001]\n"
     ]
    }
   ],
   "source": [
    "#6. sort the array in descending order\n",
    "sorted_stock_price_array = np.sort(input_stock_price_array)[::-1]\n",
    "\n",
    "print('Closing stock price in order of day traded: ', input_stock_price_array[:5])\n",
    "print('Closing stock price in order from high to low: ', sorted_stock_price_array[:5])"
   ]
  },
  {
   "cell_type": "code",
   "execution_count": 24,
   "metadata": {},
   "outputs": [
    {
     "name": "stdout",
     "output_type": "stream",
     "text": [
      "Highest closing stock price:  267.100006\n"
     ]
    }
   ],
   "source": [
    "#7. print the first element in the array to display the highest price\n",
    "print('Highest closing stock price: ', sorted_stock_price_array[0])"
   ]
  }
 ],
 "metadata": {
  "kernelspec": {
   "display_name": "Python 3.10.5 64-bit",
   "language": "python",
   "name": "python3"
  },
  "language_info": {
   "codemirror_mode": {
    "name": "ipython",
    "version": 3
   },
   "file_extension": ".py",
   "mimetype": "text/x-python",
   "name": "python",
   "nbconvert_exporter": "python",
   "pygments_lexer": "ipython3",
   "version": "3.10.5"
  },
  "orig_nbformat": 4,
  "vscode": {
   "interpreter": {
    "hash": "b629c3126b5df0b3c19ac5f524890cb3a3a2e86c1a2f2c4b1c29287aa73e65d0"
   }
  }
 },
 "nbformat": 4,
 "nbformat_minor": 2
}
