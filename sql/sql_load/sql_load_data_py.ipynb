{
 "cells": [
  {
   "cell_type": "markdown",
   "metadata": {},
   "source": [
    "# Practical Data Analysis Using Jupyter Notebook\n",
    "\n",
    "## Ch. 5: Gathering and Loading Data in Python \n",
    "---"
   ]
  },
  {
   "cell_type": "markdown",
   "metadata": {},
   "source": [
    "## Introduction\n",
    "\n",
    "What is SQL?  Why is it important for data analysis? These questions and more ahead."
   ]
  },
  {
   "cell_type": "markdown",
   "metadata": {},
   "source": [
    "## Topics\n",
    "\n",
    "* Introduction to SQL and relational databases\n",
    "* From SQL to pandas DataFrames\n",
    "* Data about your data explained"
   ]
  },
  {
   "cell_type": "markdown",
   "metadata": {},
   "source": [
    "## Imports"
   ]
  },
  {
   "cell_type": "code",
   "execution_count": 2,
   "metadata": {},
   "outputs": [],
   "source": [
    "import pandas as pd\n",
    "import sqlite3"
   ]
  },
  {
   "cell_type": "markdown",
   "metadata": {},
   "source": [
    "---"
   ]
  },
  {
   "cell_type": "markdown",
   "metadata": {},
   "source": [
    "## Introduction to SQL and relational databases\n",
    "\n",
    "Relational databases solve the problem of storing data together in multiple tables while keeping consistency across them using the concept of a primary and foreign key:\n",
    "\n",
    "* A primary key is the unique value (typically an integer) used to represent a single distinct record or tuple in each table.\n",
    "* A foreign key would be a field in one table that references the primary key from another."
   ]
  },
  {
   "cell_type": "markdown",
   "metadata": {},
   "source": [
    "## From SQL to pandas DataFrames\n",
    "\n",
    "Test data : `customer_sales.db`\n",
    "\n",
    "In this DB we have three tables:\n",
    "\n",
    "1.  `tbl_sales`\n",
    "2.  `tbl_customers`\n",
    "3.  `tbl_products`\n",
    "\n",
    "![Entity Relationship Diagram](../data/erd.JPG)\n",
    "\n",
    "Let's go on ahead and connect to the DB"
   ]
  },
  {
   "cell_type": "code",
   "execution_count": 2,
   "metadata": {},
   "outputs": [],
   "source": [
    "conn = sqlite3.connect('../data/customer_sales.db')\n"
   ]
  },
  {
   "cell_type": "markdown",
   "metadata": {},
   "source": [
    "...and create a DataFrame by using a SQL query."
   ]
  },
  {
   "cell_type": "code",
   "execution_count": 5,
   "metadata": {},
   "outputs": [
    {
     "data": {
      "text/html": [
       "<div>\n",
       "<style scoped>\n",
       "    .dataframe tbody tr th:only-of-type {\n",
       "        vertical-align: middle;\n",
       "    }\n",
       "\n",
       "    .dataframe tbody tr th {\n",
       "        vertical-align: top;\n",
       "    }\n",
       "\n",
       "    .dataframe thead th {\n",
       "        text-align: right;\n",
       "    }\n",
       "</style>\n",
       "<table border=\"1\" class=\"dataframe\">\n",
       "  <thead>\n",
       "    <tr style=\"text-align: right;\">\n",
       "      <th></th>\n",
       "      <th>Sale_ID</th>\n",
       "      <th>Sale_Date</th>\n",
       "      <th>Description</th>\n",
       "      <th>Customer_ID</th>\n",
       "      <th>Product_ID</th>\n",
       "      <th>Sales_Amount</th>\n",
       "      <th>Sales_Quantity</th>\n",
       "    </tr>\n",
       "  </thead>\n",
       "  <tbody>\n",
       "    <tr>\n",
       "      <th>0</th>\n",
       "      <td>1</td>\n",
       "      <td>12/31/2014</td>\n",
       "      <td>Purchased from Store</td>\n",
       "      <td>2</td>\n",
       "      <td>2</td>\n",
       "      <td>20</td>\n",
       "      <td>1</td>\n",
       "    </tr>\n",
       "    <tr>\n",
       "      <th>1</th>\n",
       "      <td>2</td>\n",
       "      <td>1/15/2015</td>\n",
       "      <td>Phone Purchase</td>\n",
       "      <td>1</td>\n",
       "      <td>1</td>\n",
       "      <td>30</td>\n",
       "      <td>2</td>\n",
       "    </tr>\n",
       "    <tr>\n",
       "      <th>2</th>\n",
       "      <td>3</td>\n",
       "      <td>6/14/2015</td>\n",
       "      <td>Internet Purchase</td>\n",
       "      <td>3</td>\n",
       "      <td>3</td>\n",
       "      <td>5</td>\n",
       "      <td>1</td>\n",
       "    </tr>\n",
       "    <tr>\n",
       "      <th>3</th>\n",
       "      <td>4</td>\n",
       "      <td>11/11/2015</td>\n",
       "      <td>Sales Convention Purchase</td>\n",
       "      <td>3</td>\n",
       "      <td>3</td>\n",
       "      <td>500</td>\n",
       "      <td>100</td>\n",
       "    </tr>\n",
       "    <tr>\n",
       "      <th>4</th>\n",
       "      <td>5</td>\n",
       "      <td>4/18/2016</td>\n",
       "      <td>Internet Purchase</td>\n",
       "      <td>4</td>\n",
       "      <td>1</td>\n",
       "      <td>20</td>\n",
       "      <td>2</td>\n",
       "    </tr>\n",
       "  </tbody>\n",
       "</table>\n",
       "</div>"
      ],
      "text/plain": [
       "   Sale_ID   Sale_Date                Description  Customer_ID  Product_ID  \\\n",
       "0        1  12/31/2014       Purchased from Store            2           2   \n",
       "1        2   1/15/2015             Phone Purchase            1           1   \n",
       "2        3   6/14/2015          Internet Purchase            3           3   \n",
       "3        4  11/11/2015  Sales Convention Purchase            3           3   \n",
       "4        5   4/18/2016          Internet Purchase            4           1   \n",
       "\n",
       "   Sales_Amount  Sales_Quantity  \n",
       "0            20               1  \n",
       "1            30               2  \n",
       "2             5               1  \n",
       "3           500             100  \n",
       "4            20               2  "
      ]
     },
     "execution_count": 5,
     "metadata": {},
     "output_type": "execute_result"
    }
   ],
   "source": [
    "df_sales = pd.read_sql_query(\"SELECT * FROM tbl_sales\", conn)\n",
    "df_sales.head()"
   ]
  },
  {
   "cell_type": "code",
   "execution_count": 8,
   "metadata": {},
   "outputs": [
    {
     "data": {
      "text/html": [
       "<div>\n",
       "<style scoped>\n",
       "    .dataframe tbody tr th:only-of-type {\n",
       "        vertical-align: middle;\n",
       "    }\n",
       "\n",
       "    .dataframe tbody tr th {\n",
       "        vertical-align: top;\n",
       "    }\n",
       "\n",
       "    .dataframe thead th {\n",
       "        text-align: right;\n",
       "    }\n",
       "</style>\n",
       "<table border=\"1\" class=\"dataframe\">\n",
       "  <thead>\n",
       "    <tr style=\"text-align: right;\">\n",
       "      <th></th>\n",
       "      <th>Sale_ID</th>\n",
       "      <th>Sale_Date</th>\n",
       "      <th>Description</th>\n",
       "      <th>Customer_ID</th>\n",
       "      <th>Product_ID</th>\n",
       "      <th>Sales_Amount</th>\n",
       "      <th>Sales_Quantity</th>\n",
       "    </tr>\n",
       "  </thead>\n",
       "  <tbody>\n",
       "    <tr>\n",
       "      <th>1</th>\n",
       "      <td>2</td>\n",
       "      <td>1/15/2015</td>\n",
       "      <td>Phone Purchase</td>\n",
       "      <td>1</td>\n",
       "      <td>1</td>\n",
       "      <td>30</td>\n",
       "      <td>2</td>\n",
       "    </tr>\n",
       "    <tr>\n",
       "      <th>5</th>\n",
       "      <td>6</td>\n",
       "      <td>10/15/2016</td>\n",
       "      <td>Purchased from Store</td>\n",
       "      <td>5</td>\n",
       "      <td>1</td>\n",
       "      <td>20</td>\n",
       "      <td>1</td>\n",
       "    </tr>\n",
       "    <tr>\n",
       "      <th>3</th>\n",
       "      <td>4</td>\n",
       "      <td>11/11/2015</td>\n",
       "      <td>Sales Convention Purchase</td>\n",
       "      <td>3</td>\n",
       "      <td>3</td>\n",
       "      <td>500</td>\n",
       "      <td>100</td>\n",
       "    </tr>\n",
       "    <tr>\n",
       "      <th>0</th>\n",
       "      <td>1</td>\n",
       "      <td>12/31/2014</td>\n",
       "      <td>Purchased from Store</td>\n",
       "      <td>2</td>\n",
       "      <td>2</td>\n",
       "      <td>20</td>\n",
       "      <td>1</td>\n",
       "    </tr>\n",
       "    <tr>\n",
       "      <th>6</th>\n",
       "      <td>7</td>\n",
       "      <td>3/17/2017</td>\n",
       "      <td>Internet Purchase</td>\n",
       "      <td>4</td>\n",
       "      <td>1</td>\n",
       "      <td>20</td>\n",
       "      <td>1</td>\n",
       "    </tr>\n",
       "    <tr>\n",
       "      <th>4</th>\n",
       "      <td>5</td>\n",
       "      <td>4/18/2016</td>\n",
       "      <td>Internet Purchase</td>\n",
       "      <td>4</td>\n",
       "      <td>1</td>\n",
       "      <td>20</td>\n",
       "      <td>2</td>\n",
       "    </tr>\n",
       "    <tr>\n",
       "      <th>8</th>\n",
       "      <td>9</td>\n",
       "      <td>5/25/2019</td>\n",
       "      <td>Internet Purchase</td>\n",
       "      <td>1</td>\n",
       "      <td>3</td>\n",
       "      <td>10</td>\n",
       "      <td>2</td>\n",
       "    </tr>\n",
       "    <tr>\n",
       "      <th>2</th>\n",
       "      <td>3</td>\n",
       "      <td>6/14/2015</td>\n",
       "      <td>Internet Purchase</td>\n",
       "      <td>3</td>\n",
       "      <td>3</td>\n",
       "      <td>5</td>\n",
       "      <td>1</td>\n",
       "    </tr>\n",
       "    <tr>\n",
       "      <th>7</th>\n",
       "      <td>8</td>\n",
       "      <td>6/15/2018</td>\n",
       "      <td>Purchased from Store</td>\n",
       "      <td>3</td>\n",
       "      <td>3</td>\n",
       "      <td>5</td>\n",
       "      <td>1</td>\n",
       "    </tr>\n",
       "    <tr>\n",
       "      <th>9</th>\n",
       "      <td>10</td>\n",
       "      <td>6/9/2019</td>\n",
       "      <td>Internet Purchase</td>\n",
       "      <td>2</td>\n",
       "      <td>3</td>\n",
       "      <td>10</td>\n",
       "      <td>2</td>\n",
       "    </tr>\n",
       "  </tbody>\n",
       "</table>\n",
       "</div>"
      ],
      "text/plain": [
       "   Sale_ID   Sale_Date                Description  Customer_ID  Product_ID  \\\n",
       "1        2   1/15/2015             Phone Purchase            1           1   \n",
       "5        6  10/15/2016       Purchased from Store            5           1   \n",
       "3        4  11/11/2015  Sales Convention Purchase            3           3   \n",
       "0        1  12/31/2014       Purchased from Store            2           2   \n",
       "6        7   3/17/2017          Internet Purchase            4           1   \n",
       "4        5   4/18/2016          Internet Purchase            4           1   \n",
       "8        9   5/25/2019          Internet Purchase            1           3   \n",
       "2        3   6/14/2015          Internet Purchase            3           3   \n",
       "7        8   6/15/2018       Purchased from Store            3           3   \n",
       "9       10    6/9/2019          Internet Purchase            2           3   \n",
       "\n",
       "   Sales_Amount  Sales_Quantity  \n",
       "1            30               2  \n",
       "5            20               1  \n",
       "3           500             100  \n",
       "0            20               1  \n",
       "6            20               1  \n",
       "4            20               2  \n",
       "8            10               2  \n",
       "2             5               1  \n",
       "7             5               1  \n",
       "9            10               2  "
      ]
     },
     "execution_count": 8,
     "metadata": {},
     "output_type": "execute_result"
    }
   ],
   "source": [
    "df_sales.sort_values(by='Sale_Date')"
   ]
  },
  {
   "cell_type": "markdown",
   "metadata": {},
   "source": [
    "To limit the data displayed, we can use the DataFrame.`loc` method to isolate specific rows or columns based on how it is labeled by the header row. To retrieve the first row available, we simply run this command against our DataFrame and reference the index value, which begins with 0:"
   ]
  },
  {
   "cell_type": "code",
   "execution_count": 9,
   "metadata": {},
   "outputs": [
    {
     "data": {
      "text/plain": [
       "Sale_ID                              1\n",
       "Sale_Date                   12/31/2014\n",
       "Description       Purchased from Store\n",
       "Customer_ID                          2\n",
       "Product_ID                           2\n",
       "Sales_Amount                        20\n",
       "Sales_Quantity                       1\n",
       "Name: 0, dtype: object"
      ]
     },
     "execution_count": 9,
     "metadata": {},
     "output_type": "execute_result"
    }
   ],
   "source": [
    "df_sales.loc[0]"
   ]
  },
  {
   "cell_type": "markdown",
   "metadata": {},
   "source": [
    "To restrict the data displayed, we can use a nested command to isolate specific rows based on a condition. A business task you could address using this data would be to *identify customers with high sales so we can thank them personally*. To do this, we can filter the sales by a specific value and display only the rows that meet or exceed that condition. For this example, we assigned high to an arbitrary number so any `Sales_Amount` over 100 will be displayed using this command:"
   ]
  },
  {
   "cell_type": "code",
   "execution_count": 16,
   "metadata": {},
   "outputs": [
    {
     "data": {
      "text/html": [
       "<div>\n",
       "<style scoped>\n",
       "    .dataframe tbody tr th:only-of-type {\n",
       "        vertical-align: middle;\n",
       "    }\n",
       "\n",
       "    .dataframe tbody tr th {\n",
       "        vertical-align: top;\n",
       "    }\n",
       "\n",
       "    .dataframe thead th {\n",
       "        text-align: right;\n",
       "    }\n",
       "</style>\n",
       "<table border=\"1\" class=\"dataframe\">\n",
       "  <thead>\n",
       "    <tr style=\"text-align: right;\">\n",
       "      <th></th>\n",
       "      <th>Sale_ID</th>\n",
       "      <th>Sale_Date</th>\n",
       "      <th>Description</th>\n",
       "      <th>Customer_ID</th>\n",
       "      <th>Product_ID</th>\n",
       "      <th>Sales_Amount</th>\n",
       "      <th>Sales_Quantity</th>\n",
       "    </tr>\n",
       "  </thead>\n",
       "  <tbody>\n",
       "    <tr>\n",
       "      <th>3</th>\n",
       "      <td>4</td>\n",
       "      <td>11/11/2015</td>\n",
       "      <td>Sales Convention Purchase</td>\n",
       "      <td>3</td>\n",
       "      <td>3</td>\n",
       "      <td>500</td>\n",
       "      <td>100</td>\n",
       "    </tr>\n",
       "  </tbody>\n",
       "</table>\n",
       "</div>"
      ],
      "text/plain": [
       "   Sale_ID   Sale_Date                Description  Customer_ID  Product_ID  \\\n",
       "3        4  11/11/2015  Sales Convention Purchase            3           3   \n",
       "\n",
       "   Sales_Amount  Sales_Quantity  \n",
       "3           500             100  "
      ]
     },
     "execution_count": 16,
     "metadata": {},
     "output_type": "execute_result"
    }
   ],
   "source": [
    "df_sales['Sales_Amount'] > 100 # returns True values as args for...\n",
    "df_sales[df_sales['Sales_Amount'] > 100]"
   ]
  },
  {
   "cell_type": "markdown",
   "metadata": {},
   "source": [
    "## Data about your data explained\n",
    "\n",
    "### Fundamental statistics\n",
    "\n",
    "Descriptive analytics is based on what has already happened in the past by analyzing the digital footprint of data to gain insights, analyze trends, and identify patterns.\n",
    "\n",
    "Using SQL to read data from one or more tables supports this effort, which should include basic statistics and arithmetic.\n",
    "\n",
    "![fundamental stats](../data/fundamental_stats.JPG)"
   ]
  },
  {
   "cell_type": "markdown",
   "metadata": {},
   "source": [
    "### Metadata explained\n",
    "\n",
    "Metadata is commonly known as descriptive information about the data source. A key concept exposed in metadata analysis is related to understanding that nulls exist in databases.\n",
    "\n",
    "In Python and other coding languages such as Java, you may see the word `NaN` returned. This is an acronym for Not a Number and helps you to understand that you may not be able to perform statistical calculations or functions against those values.\n",
    "\n",
    "`NaN` values will have special functions to handle them:\n",
    "* NumPY: `nansum()`\n",
    "* pandas: `isnull()`\n",
    "* SQL: `is [not] null`\n",
    "\n",
    "Okay enough of that, let's get into some examples."
   ]
  },
  {
   "cell_type": "code",
   "execution_count": 3,
   "metadata": {},
   "outputs": [],
   "source": [
    "# connect to the DB and make a dataframe\n",
    "conn = sqlite3.connect('../data/customer_sales.db')\n",
    "df_customer_sales = pd.read_sql_query(\"\"\"\n",
    "  SELECT * FROM tbl_customers\n",
    "\"\"\", conn)"
   ]
  },
  {
   "cell_type": "code",
   "execution_count": 4,
   "metadata": {},
   "outputs": [
    {
     "data": {
      "text/html": [
       "<div>\n",
       "<style scoped>\n",
       "    .dataframe tbody tr th:only-of-type {\n",
       "        vertical-align: middle;\n",
       "    }\n",
       "\n",
       "    .dataframe tbody tr th {\n",
       "        vertical-align: top;\n",
       "    }\n",
       "\n",
       "    .dataframe thead th {\n",
       "        text-align: right;\n",
       "    }\n",
       "</style>\n",
       "<table border=\"1\" class=\"dataframe\">\n",
       "  <thead>\n",
       "    <tr style=\"text-align: right;\">\n",
       "      <th></th>\n",
       "      <th>Customer_ID</th>\n",
       "      <th>First_Name</th>\n",
       "      <th>Last_Name</th>\n",
       "      <th>Address_Line_1</th>\n",
       "      <th>Address_Line_2</th>\n",
       "      <th>City</th>\n",
       "      <th>State</th>\n",
       "      <th>ZipCode</th>\n",
       "      <th>Phone</th>\n",
       "      <th>Email</th>\n",
       "    </tr>\n",
       "  </thead>\n",
       "  <tbody>\n",
       "    <tr>\n",
       "      <th>0</th>\n",
       "      <td>False</td>\n",
       "      <td>False</td>\n",
       "      <td>False</td>\n",
       "      <td>False</td>\n",
       "      <td>True</td>\n",
       "      <td>False</td>\n",
       "      <td>False</td>\n",
       "      <td>False</td>\n",
       "      <td>False</td>\n",
       "      <td>False</td>\n",
       "    </tr>\n",
       "    <tr>\n",
       "      <th>1</th>\n",
       "      <td>False</td>\n",
       "      <td>False</td>\n",
       "      <td>False</td>\n",
       "      <td>False</td>\n",
       "      <td>True</td>\n",
       "      <td>False</td>\n",
       "      <td>False</td>\n",
       "      <td>False</td>\n",
       "      <td>True</td>\n",
       "      <td>False</td>\n",
       "    </tr>\n",
       "    <tr>\n",
       "      <th>2</th>\n",
       "      <td>False</td>\n",
       "      <td>False</td>\n",
       "      <td>False</td>\n",
       "      <td>False</td>\n",
       "      <td>True</td>\n",
       "      <td>False</td>\n",
       "      <td>False</td>\n",
       "      <td>False</td>\n",
       "      <td>True</td>\n",
       "      <td>False</td>\n",
       "    </tr>\n",
       "    <tr>\n",
       "      <th>3</th>\n",
       "      <td>False</td>\n",
       "      <td>False</td>\n",
       "      <td>False</td>\n",
       "      <td>False</td>\n",
       "      <td>False</td>\n",
       "      <td>False</td>\n",
       "      <td>False</td>\n",
       "      <td>False</td>\n",
       "      <td>True</td>\n",
       "      <td>False</td>\n",
       "    </tr>\n",
       "    <tr>\n",
       "      <th>4</th>\n",
       "      <td>False</td>\n",
       "      <td>False</td>\n",
       "      <td>False</td>\n",
       "      <td>False</td>\n",
       "      <td>True</td>\n",
       "      <td>False</td>\n",
       "      <td>False</td>\n",
       "      <td>False</td>\n",
       "      <td>False</td>\n",
       "      <td>False</td>\n",
       "    </tr>\n",
       "  </tbody>\n",
       "</table>\n",
       "</div>"
      ],
      "text/plain": [
       "   Customer_ID  First_Name  Last_Name  Address_Line_1  Address_Line_2   City  \\\n",
       "0        False       False      False           False            True  False   \n",
       "1        False       False      False           False            True  False   \n",
       "2        False       False      False           False            True  False   \n",
       "3        False       False      False           False           False  False   \n",
       "4        False       False      False           False            True  False   \n",
       "\n",
       "   State  ZipCode  Phone  Email  \n",
       "0  False    False  False  False  \n",
       "1  False    False   True  False  \n",
       "2  False    False   True  False  \n",
       "3  False    False   True  False  \n",
       "4  False    False  False  False  "
      ]
     },
     "execution_count": 4,
     "metadata": {},
     "output_type": "execute_result"
    }
   ],
   "source": [
    "# identify any NaN fields\n",
    "pd.isnull(df_customer_sales)"
   ]
  }
 ],
 "metadata": {
  "kernelspec": {
   "display_name": "Python 3.10.5 64-bit",
   "language": "python",
   "name": "python3"
  },
  "language_info": {
   "codemirror_mode": {
    "name": "ipython",
    "version": 3
   },
   "file_extension": ".py",
   "mimetype": "text/x-python",
   "name": "python",
   "nbconvert_exporter": "python",
   "pygments_lexer": "ipython3",
   "version": "3.10.5"
  },
  "orig_nbformat": 4,
  "vscode": {
   "interpreter": {
    "hash": "b629c3126b5df0b3c19ac5f524890cb3a3a2e86c1a2f2c4b1c29287aa73e65d0"
   }
  }
 },
 "nbformat": 4,
 "nbformat_minor": 2
}
